{
 "cells": [
  {
   "cell_type": "code",
   "execution_count": 1,
   "id": "48036cf7",
   "metadata": {},
   "outputs": [
    {
     "name": "stdout",
     "output_type": "stream",
     "text": [
      "Requirement already satisfied: keras==2.4.3 in c:\\users\\prave\\appdata\\local\\programs\\python\\python36\\lib\\site-packages (2.4.3)\n",
      "Requirement already satisfied: numpy>=1.9.1 in c:\\users\\prave\\appdata\\local\\programs\\python\\python36\\lib\\site-packages (from keras==2.4.3) (1.19.5)\n",
      "Requirement already satisfied: h5py in c:\\users\\prave\\appdata\\local\\programs\\python\\python36\\lib\\site-packages (from keras==2.4.3) (2.10.0)\n",
      "Requirement already satisfied: pyyaml in c:\\users\\prave\\appdata\\local\\programs\\python\\python36\\lib\\site-packages (from keras==2.4.3) (5.1)\n",
      "Requirement already satisfied: scipy>=0.14 in c:\\users\\prave\\appdata\\local\\programs\\python\\python36\\lib\\site-packages (from keras==2.4.3) (1.4.1)\n",
      "Requirement already satisfied: six in c:\\users\\prave\\appdata\\local\\programs\\python\\python36\\lib\\site-packages (from h5py->keras==2.4.3) (1.15.0)\n",
      "Note: you may need to restart the kernel to use updated packages.\n"
     ]
    },
    {
     "name": "stderr",
     "output_type": "stream",
     "text": [
      "WARNING: You are using pip version 21.3; however, version 21.3.1 is available.\n",
      "You should consider upgrading via the 'c:\\users\\prave\\appdata\\local\\programs\\python\\python36\\python.exe -m pip install --upgrade pip' command.\n"
     ]
    }
   ],
   "source": [
    "pip install keras==2.4.3"
   ]
  },
  {
   "cell_type": "code",
   "execution_count": 2,
   "id": "9c42a361",
   "metadata": {},
   "outputs": [
    {
     "name": "stdout",
     "output_type": "stream",
     "text": [
      "Requirement already satisfied: tensorflow in c:\\users\\prave\\appdata\\local\\programs\\python\\python36\\lib\\site-packages (1.13.1)\n",
      "Requirement already satisfied: keras-applications>=1.0.6 in c:\\users\\prave\\appdata\\local\\programs\\python\\python36\\lib\\site-packages (from tensorflow) (1.0.8)\n",
      "Requirement already satisfied: astor>=0.6.0 in c:\\users\\prave\\appdata\\local\\programs\\python\\python36\\lib\\site-packages (from tensorflow) (0.8.1)\n",
      "Requirement already satisfied: keras-preprocessing>=1.0.5 in c:\\users\\prave\\appdata\\local\\programs\\python\\python36\\lib\\site-packages (from tensorflow) (1.1.2)\n",
      "Requirement already satisfied: gast>=0.2.0 in c:\\users\\prave\\appdata\\local\\programs\\python\\python36\\lib\\site-packages (from tensorflow) (0.4.0)\n",
      "Requirement already satisfied: grpcio>=1.8.6 in c:\\users\\prave\\appdata\\local\\programs\\python\\python36\\lib\\site-packages (from tensorflow) (1.41.0)\n",
      "Requirement already satisfied: six>=1.10.0 in c:\\users\\prave\\appdata\\local\\programs\\python\\python36\\lib\\site-packages (from tensorflow) (1.15.0)\n",
      "Requirement already satisfied: absl-py>=0.1.6 in c:\\users\\prave\\appdata\\local\\programs\\python\\python36\\lib\\site-packages (from tensorflow) (0.12.0)\n",
      "Requirement already satisfied: termcolor>=1.1.0 in c:\\users\\prave\\appdata\\local\\programs\\python\\python36\\lib\\site-packages (from tensorflow) (1.1.0)\n",
      "Requirement already satisfied: tensorflow-estimator<1.14.0rc0,>=1.13.0 in c:\\users\\prave\\appdata\\local\\programs\\python\\python36\\lib\\site-packages (from tensorflow) (1.13.0)\n",
      "Requirement already satisfied: tensorboard<1.14.0,>=1.13.0 in c:\\users\\prave\\appdata\\local\\programs\\python\\python36\\lib\\site-packages (from tensorflow) (1.13.1)\n",
      "Requirement already satisfied: protobuf>=3.6.1 in c:\\users\\prave\\appdata\\local\\programs\\python\\python36\\lib\\site-packages (from tensorflow) (3.17.3)\n",
      "Requirement already satisfied: numpy>=1.13.3 in c:\\users\\prave\\appdata\\local\\programs\\python\\python36\\lib\\site-packages (from tensorflow) (1.19.5)\n",
      "Requirement already satisfied: wheel>=0.26 in c:\\users\\prave\\appdata\\local\\programs\\python\\python36\\lib\\site-packages (from tensorflow) (0.37.0)\n",
      "Requirement already satisfied: h5py in c:\\users\\prave\\appdata\\local\\programs\\python\\python36\\lib\\site-packages (from keras-applications>=1.0.6->tensorflow) (2.10.0)\n",
      "Requirement already satisfied: markdown>=2.6.8 in c:\\users\\prave\\appdata\\local\\programs\\python\\python36\\lib\\site-packages (from tensorboard<1.14.0,>=1.13.0->tensorflow) (3.3.4)\n",
      "Requirement already satisfied: werkzeug>=0.11.15 in c:\\users\\prave\\appdata\\local\\programs\\python\\python36\\lib\\site-packages (from tensorboard<1.14.0,>=1.13.0->tensorflow) (2.0.2)\n",
      "Requirement already satisfied: mock>=2.0.0 in c:\\users\\prave\\appdata\\local\\programs\\python\\python36\\lib\\site-packages (from tensorflow-estimator<1.14.0rc0,>=1.13.0->tensorflow) (4.0.3)\n",
      "Requirement already satisfied: importlib-metadata in c:\\users\\prave\\appdata\\local\\programs\\python\\python36\\lib\\site-packages (from markdown>=2.6.8->tensorboard<1.14.0,>=1.13.0->tensorflow) (4.8.1)\n",
      "Requirement already satisfied: dataclasses in c:\\users\\prave\\appdata\\local\\programs\\python\\python36\\lib\\site-packages (from werkzeug>=0.11.15->tensorboard<1.14.0,>=1.13.0->tensorflow) (0.8)\n",
      "Requirement already satisfied: zipp>=0.5 in c:\\users\\prave\\appdata\\local\\programs\\python\\python36\\lib\\site-packages (from importlib-metadata->markdown>=2.6.8->tensorboard<1.14.0,>=1.13.0->tensorflow) (3.6.0)\n",
      "Requirement already satisfied: typing-extensions>=3.6.4 in c:\\users\\prave\\appdata\\local\\programs\\python\\python36\\lib\\site-packages (from importlib-metadata->markdown>=2.6.8->tensorboard<1.14.0,>=1.13.0->tensorflow) (3.7.4.3)\n",
      "Note: you may need to restart the kernel to use updated packages.\n"
     ]
    },
    {
     "name": "stderr",
     "output_type": "stream",
     "text": [
      "WARNING: You are using pip version 21.3; however, version 21.3.1 is available.\n",
      "You should consider upgrading via the 'c:\\users\\prave\\appdata\\local\\programs\\python\\python36\\python.exe -m pip install --upgrade pip' command.\n"
     ]
    }
   ],
   "source": [
    "pip install tensorflow"
   ]
  },
  {
   "cell_type": "code",
   "execution_count": 3,
   "id": "6d32defd",
   "metadata": {},
   "outputs": [
    {
     "name": "stdout",
     "output_type": "stream",
     "text": [
      "Requirement already satisfied: numpy in c:\\users\\prave\\appdata\\local\\programs\\python\\python36\\lib\\site-packages (1.19.5)Note: you may need to restart the kernel to use updated packages.\n",
      "\n"
     ]
    },
    {
     "name": "stderr",
     "output_type": "stream",
     "text": [
      "WARNING: You are using pip version 21.3; however, version 21.3.1 is available.\n",
      "You should consider upgrading via the 'c:\\users\\prave\\appdata\\local\\programs\\python\\python36\\python.exe -m pip install --upgrade pip' command.\n"
     ]
    }
   ],
   "source": [
    "pip install numpy"
   ]
  },
  {
   "cell_type": "code",
   "execution_count": 4,
   "id": "9ece7047",
   "metadata": {},
   "outputs": [
    {
     "name": "stdout",
     "output_type": "stream",
     "text": [
      "Requirement already satisfied: pillow in c:\\users\\prave\\appdata\\local\\programs\\python\\python36\\lib\\site-packages (8.4.0)\n",
      "Note: you may need to restart the kernel to use updated packages.\n"
     ]
    },
    {
     "name": "stderr",
     "output_type": "stream",
     "text": [
      "WARNING: You are using pip version 21.3; however, version 21.3.1 is available.\n",
      "You should consider upgrading via the 'c:\\users\\prave\\appdata\\local\\programs\\python\\python36\\python.exe -m pip install --upgrade pip' command.\n"
     ]
    }
   ],
   "source": [
    "pip install pillow"
   ]
  },
  {
   "cell_type": "code",
   "execution_count": null,
   "id": "6e01833e",
   "metadata": {},
   "outputs": [
    {
     "name": "stderr",
     "output_type": "stream",
     "text": [
      "c:\\users\\prave\\appdata\\local\\programs\\python\\python36\\lib\\site-packages\\tensorboard\\compat\\tensorflow_stub\\dtypes.py:541: FutureWarning: Passing (type, 1) or '1type' as a synonym of type is deprecated; in a future version of numpy, it will be understood as (type, (1,)) / '(1,)type'.\n",
      "  _np_qint8 = np.dtype([(\"qint8\", np.int8, 1)])\n",
      "c:\\users\\prave\\appdata\\local\\programs\\python\\python36\\lib\\site-packages\\tensorboard\\compat\\tensorflow_stub\\dtypes.py:542: FutureWarning: Passing (type, 1) or '1type' as a synonym of type is deprecated; in a future version of numpy, it will be understood as (type, (1,)) / '(1,)type'.\n",
      "  _np_quint8 = np.dtype([(\"quint8\", np.uint8, 1)])\n",
      "c:\\users\\prave\\appdata\\local\\programs\\python\\python36\\lib\\site-packages\\tensorboard\\compat\\tensorflow_stub\\dtypes.py:543: FutureWarning: Passing (type, 1) or '1type' as a synonym of type is deprecated; in a future version of numpy, it will be understood as (type, (1,)) / '(1,)type'.\n",
      "  _np_qint16 = np.dtype([(\"qint16\", np.int16, 1)])\n",
      "c:\\users\\prave\\appdata\\local\\programs\\python\\python36\\lib\\site-packages\\tensorboard\\compat\\tensorflow_stub\\dtypes.py:544: FutureWarning: Passing (type, 1) or '1type' as a synonym of type is deprecated; in a future version of numpy, it will be understood as (type, (1,)) / '(1,)type'.\n",
      "  _np_quint16 = np.dtype([(\"quint16\", np.uint16, 1)])\n",
      "c:\\users\\prave\\appdata\\local\\programs\\python\\python36\\lib\\site-packages\\tensorboard\\compat\\tensorflow_stub\\dtypes.py:545: FutureWarning: Passing (type, 1) or '1type' as a synonym of type is deprecated; in a future version of numpy, it will be understood as (type, (1,)) / '(1,)type'.\n",
      "  _np_qint32 = np.dtype([(\"qint32\", np.int32, 1)])\n",
      "c:\\users\\prave\\appdata\\local\\programs\\python\\python36\\lib\\site-packages\\tensorboard\\compat\\tensorflow_stub\\dtypes.py:550: FutureWarning: Passing (type, 1) or '1type' as a synonym of type is deprecated; in a future version of numpy, it will be understood as (type, (1,)) / '(1,)type'.\n",
      "  np_resource = np.dtype([(\"resource\", np.ubyte, 1)])\n"
     ]
    },
    {
     "name": "stdout",
     "output_type": "stream",
     "text": [
      " * Serving Flask app '__main__' (lazy loading)\n",
      " * Environment: production\n",
      "\u001b[31m   WARNING: This is a development server. Do not use it in a production deployment.\u001b[0m\n",
      "\u001b[2m   Use a production WSGI server instead.\u001b[0m\n",
      " * Debug mode: off\n"
     ]
    },
    {
     "name": "stderr",
     "output_type": "stream",
     "text": [
      " * Running on http://127.0.0.1:5000/ (Press CTRL+C to quit)\n",
      "127.0.0.1 - - [24/Jun/2022 14:59:53] \"GET / HTTP/1.1\" 200 -\n",
      "127.0.0.1 - - [24/Jun/2022 14:59:53] \"GET /favicon.ico HTTP/1.1\" 404 -\n",
      "C:\\Users\\prave\\AppData\\Roaming\\Python\\Python36\\site-packages\\tensorflow\\python\\keras\\engine\\sequential.py:454: UserWarning: `model.predict_classes()` is deprecated and will be removed after 2021-01-01. Please use instead:* `np.argmax(model.predict(x), axis=-1)`,   if your model does multi-class classification   (e.g. if it uses a `softmax` last-layer activation).* `(model.predict(x) > 0.5).astype(\"int32\")`,   if your model does binary classification   (e.g. if it uses a `sigmoid` last-layer activation).\n",
      "  warnings.warn('`model.predict_classes()` is deprecated and '\n",
      "127.0.0.1 - - [24/Jun/2022 15:03:10] \"POST /submit HTTP/1.1\" 200 -\n",
      "127.0.0.1 - - [24/Jun/2022 15:03:10] \"GET /static/no2.jpg HTTP/1.1\" 200 -\n",
      "C:\\Users\\prave\\AppData\\Roaming\\Python\\Python36\\site-packages\\tensorflow\\python\\keras\\engine\\sequential.py:454: UserWarning: `model.predict_classes()` is deprecated and will be removed after 2021-01-01. Please use instead:* `np.argmax(model.predict(x), axis=-1)`,   if your model does multi-class classification   (e.g. if it uses a `softmax` last-layer activation).* `(model.predict(x) > 0.5).astype(\"int32\")`,   if your model does binary classification   (e.g. if it uses a `sigmoid` last-layer activation).\n",
      "  warnings.warn('`model.predict_classes()` is deprecated and '\n",
      "127.0.0.1 - - [24/Jun/2022 15:03:40] \"POST /submit HTTP/1.1\" 200 -\n",
      "127.0.0.1 - - [24/Jun/2022 15:03:40] \"GET /static/y41%20(2).jpg HTTP/1.1\" 200 -\n",
      "127.0.0.1 - - [24/Jun/2022 15:03:48] \"POST /submit HTTP/1.1\" 200 -\n",
      "127.0.0.1 - - [24/Jun/2022 15:03:48] \"GET /static/y41%20(2).jpg HTTP/1.1\" 200 -\n",
      "127.0.0.1 - - [24/Jun/2022 15:12:28] \"POST /submit HTTP/1.1\" 200 -\n",
      "127.0.0.1 - - [24/Jun/2022 15:12:28] \"GET /static/y32%20(2).jpg HTTP/1.1\" 200 -\n",
      "127.0.0.1 - - [24/Jun/2022 15:12:49] \"POST /submit HTTP/1.1\" 200 -\n",
      "127.0.0.1 - - [24/Jun/2022 15:12:49] \"GET /static/no%2092.jpg HTTP/1.1\" 200 -\n",
      "127.0.0.1 - - [24/Jun/2022 15:13:45] \"GET / HTTP/1.1\" 200 -\n",
      "127.0.0.1 - - [24/Jun/2022 15:16:03] \"GET / HTTP/1.1\" 200 -\n",
      "127.0.0.1 - - [24/Jun/2022 16:32:30] \"POST /submit HTTP/1.1\" 200 -\n",
      "127.0.0.1 - - [24/Jun/2022 16:32:30] \"GET /static/Y26.jpg HTTP/1.1\" 200 -\n",
      "127.0.0.1 - - [24/Jun/2022 16:32:40] \"POST /submit HTTP/1.1\" 200 -\n",
      "127.0.0.1 - - [24/Jun/2022 16:32:40] \"GET /static/Y26.jpg HTTP/1.1\" 200 -\n",
      "127.0.0.1 - - [24/Jun/2022 16:32:50] \"GET / HTTP/1.1\" 200 -\n"
     ]
    }
   ],
   "source": [
    "from flask import Flask, render_template, request\n",
    "from tensorflow.keras.models import load_model\n",
    "from tensorflow.keras.preprocessing import image\n",
    "\n",
    "app = Flask(__name__)\n",
    "\n",
    "dic = {0 : 'normal', 1 : 'braintumor'}\n",
    "\n",
    "model = load_model('model.h5')\n",
    "\n",
    "model.make_predict_function()\n",
    "\n",
    "def predict_label(img_path):\n",
    "\ti = image.load_img(img_path, target_size=(100,100))\n",
    "\ti = image.img_to_array(i)/255.0\n",
    "\ti = i.reshape(1, 100,100,3)\n",
    "\tp = model.predict_classes(i)\n",
    "\treturn dic[p[0]]\n",
    "\n",
    "\n",
    "# routes\n",
    "@app.route(\"/\", methods=['GET', 'POST'])\n",
    "def main():\n",
    "\treturn render_template(\"index.html\")\n",
    "\n",
    "@app.route(\"/about\")\n",
    "def about_page():\n",
    "\treturn \"Please subscribe  Artificial Intelligence Hub..!!!\"\n",
    "\n",
    "@app.route(\"/submit\", methods = ['GET', 'POST'])\n",
    "def get_output():\n",
    "\tif request.method == 'POST':\n",
    "\t\timg = request.files['my_image']\n",
    "\n",
    "\t\timg_path = \"static/\" + img.filename\t\n",
    "\t\timg.save(img_path)\n",
    "\n",
    "\t\tp = predict_label(img_path)\n",
    "\n",
    "\treturn render_template(\"index.html\", prediction = p, img_path = img_path)\n",
    "\n",
    "if __name__ =='__main__':\n",
    "\tapp.run()"
   ]
  },
  {
   "cell_type": "code",
   "execution_count": null,
   "id": "ffe4c041",
   "metadata": {},
   "outputs": [],
   "source": [
    "##Running Code"
   ]
  }
 ],
 "metadata": {
  "interpreter": {
   "hash": "7a684fb9c519b1a0ab716831a93edb3d4ad49e52d68562c15e9cce5b3e9d55dd"
  },
  "kernelspec": {
   "display_name": "Python 3",
   "language": "python",
   "name": "python3"
  },
  "language_info": {
   "codemirror_mode": {
    "name": "ipython",
    "version": 3
   },
   "file_extension": ".py",
   "mimetype": "text/x-python",
   "name": "python",
   "nbconvert_exporter": "python",
   "pygments_lexer": "ipython3",
   "version": "3.6.8"
  }
 },
 "nbformat": 4,
 "nbformat_minor": 5
}
